{
 "cells": [
  {
   "cell_type": "markdown",
   "metadata": {
    "id": "Y0g-XCxrVc8m"
   },
   "source": [
    "# Diaspora Event SDK - Demo\n",
    "\n",
    "[GitHub Repository](https://github.com/globus-labs/diaspora-event-sdk/tree/main)\n",
    "\n",
    "[QuickStart Guide](https://github.com/globus-labs/diaspora-event-sdk/blob/main/docs/quickstart.md)"
   ]
  },
  {
   "cell_type": "markdown",
   "metadata": {},
   "source": [
    "#### Available Methods to Web Service APIs\n",
    "\n",
    "| Function and Arguments | Description |\n",
    "|------------------------|-------------|\n",
    "| **MSK Credential Management** | |\n",
    "| `create_key()` | Revokes existing keys, generates a new key, and updates the token storage with the newly created key and the Diaspora endpoint. |\n",
    "| **MSK Topic Management** | |\n",
    "| `list_topics()` | Returns a list of topics currently registered under the user's account. |\n",
    "| `register_topic(topic)` | Registers a new topic the user's account with permissions to read, write, and describe the topic. |\n",
    "| `unregister_topic(topic)` | Unregisters a topic from a user's account, but all existing events within the topic are unaffected. |\n",
    "| `get_topic_configs(topic)` | Retrieves the current configurations for a registered topic. |\n",
    "| `update_topic_configs(topic, configs)` | Updates the configurations for a registered topic. |\n",
    "| `update_topic_partitions(topic, new_partitions)` | Increases the number of partitions for a given topic to the specified new partition count. |\n",
    "| `reset_topic(topic)` | Deletes and recreates the topic, removing all messages and restoring the topic to the default configurations. |\n",
    "| `register_topic_for_user(topic, user)` | Authorizes another user to access a registered topic under the invoker's account. |\n",
    "| `unregister_topic_for_user(topic, user)` | Removes access permissions for another user from a registered topic under the invoker's account. |\n",
    "| `list_topic_users(topic)` | Returns a list of users that have access to the topic. |\n",
    "| **Lambda Function Management** | |\n",
    "| `list_triggers()` | Retrieves a list of triggers associated created under the user's account, showing each trigger's configurations and UUID. |\n",
    "| `create_trigger(topic, trigger, trigger_configs, invoke_configs)` | Creates a new trigger under the user's account with specific function and invocation configurations. |\n",
    "| `delete_trigger(topic, trigger)` | Deletes a trigger and related AWS resources, while the associated topic remains unaffected.|\n",
    "| `update_trigger(trigger_uuid, invoke_configs)` | Updates invocation configurations of an existing trigger, identified by its unique trigger UUID. |\n",
    "| `list_log_streams(trigger)` | List log streams of a trigger under the user's account.|\n",
    "| `get_log_events(trigger, stream)` | Get events in a particular log stream of a trigger under the user's account.|"
   ]
  },
  {
   "cell_type": "markdown",
   "metadata": {
    "id": "vwoqvNy79GOY"
   },
   "source": [
    "## Install the SDK and dependencies "
   ]
  },
  {
   "cell_type": "code",
   "execution_count": null,
   "metadata": {
    "id": "6dEQb3pMj4T2"
   },
   "outputs": [],
   "source": [
    "%pip install -e '.[kafka-python]'"
   ]
  },
  {
   "cell_type": "code",
   "execution_count": null,
   "metadata": {},
   "outputs": [],
   "source": [
    "import base64\n",
    "import json\n",
    "import os\n",
    "import random\n",
    "import time\n",
    "from pprint import pprint\n",
    "\n",
    "from diaspora_event_sdk import Client as GlobusClient\n",
    "from diaspora_event_sdk import KafkaConsumer, KafkaProducer, block_until_ready"
   ]
  },
  {
   "cell_type": "markdown",
   "metadata": {
    "id": "DFrhINF_oA_s"
   },
   "source": [
    "## Perform client login and print the user's OpenID"
   ]
  },
  {
   "cell_type": "code",
   "execution_count": null,
   "metadata": {
    "colab": {
     "base_uri": "https://localhost:8080/"
    },
    "id": "affKKJetnsel",
    "outputId": "d41cadb1-64f4-42ea-d275-7df30227ff13"
   },
   "outputs": [],
   "source": [
    "c = GlobusClient()\n",
    "print(\"User's OpenID:\", c.subject_openid)"
   ]
  },
  {
   "cell_type": "markdown",
   "metadata": {
    "id": "RIZ72NHUvzMy"
   },
   "source": [
    "## 1 Create a cluster authentication credential and verify cluster connection"
   ]
  },
  {
   "cell_type": "markdown",
   "metadata": {
    "id": "KC-Gdkc_xvNy"
   },
   "source": [
    "### 1.1 Create and retrieve a cluster authentication credential"
   ]
  },
  {
   "cell_type": "code",
   "execution_count": null,
   "metadata": {
    "colab": {
     "base_uri": "https://localhost:8080/"
    },
    "id": "AuEP_SyqomC4",
    "outputId": "c0ea107a-ca1e-4670-c66a-0f88994ec9fd"
   },
   "outputs": [],
   "source": [
    "\"\"\"\n",
    "    call the Web Service API and store credentials and endpoint address in a local token storage.\n",
    "    Note: call `create_key` at another machine invalidate the retrieved credential at this machine\n",
    "    expected return: {'access_key': ..., 'secret_key': ..., 'endpoint': ...}\n",
    "\"\"\"\n",
    "print(c.create_key())"
   ]
  },
  {
   "cell_type": "markdown",
   "metadata": {
    "id": "-eu8G9wzxz7E"
   },
   "source": [
    "### 1.2 Verify cluster connection"
   ]
  },
  {
   "cell_type": "code",
   "execution_count": null,
   "metadata": {
    "colab": {
     "base_uri": "https://localhost:8080/"
    },
    "id": "OqeSQpkrpDgJ",
    "outputId": "054fc968-6338-4177-9bc1-0efd1541cdbe"
   },
   "outputs": [],
   "source": [
    "\"\"\"\n",
    "    Internally, this method creates a producer and consumer using the retrieved credential.\n",
    "    It block until it produced a message and consumed it subsequently.\n",
    "    Note: it is normal to see a few error messages after calling create_key() because the key has not been ready.\n",
    "    expected return: None (the method blocks until the connection credential is ready)\n",
    "\"\"\"\n",
    "\n",
    "assert block_until_ready()"
   ]
  },
  {
   "cell_type": "markdown",
   "metadata": {
    "id": "cJN-FkWDwRdf"
   },
   "source": [
    "## 2 Demonstrate topic management APIs, SDK producing, and SDK consuming"
   ]
  },
  {
   "cell_type": "markdown",
   "metadata": {
    "id": "qeogkI0PywGE"
   },
   "source": [
    "### 2.1 Register a topic and list all topics registered."
   ]
  },
  {
   "cell_type": "code",
   "execution_count": null,
   "metadata": {
    "colab": {
     "base_uri": "https://localhost:8080/"
    },
    "id": "scRz12X8vdG-",
    "outputId": "51559fd6-9229-4116-bb2a-1c317047efbd"
   },
   "outputs": [],
   "source": [
    "\"\"\"\n",
    "    Register a topic -- the user get read, write, and describe access to it.\n",
    "    expected return (first time): {\"status\": \"success\", \"message\": ...}\n",
    "    expected return (subsequent): {\"status\": \"no-op\", \"message\": ...}\n",
    "\"\"\"\n",
    "topic = \"topic\" + c.subject_openid[-12:]\n",
    "print(c.register_topic(topic))\n",
    "\n",
    "\"\"\"\n",
    "    List all topics that the user has access to.\n",
    "    expected return: {\"status\": \"success\", \"topics\": [...]}\n",
    "\"\"\"\n",
    "print(c.list_topics())"
   ]
  },
  {
   "cell_type": "markdown",
   "metadata": {
    "id": "ezoAx8BBy5rG"
   },
   "source": [
    "### 2.2 Get configurations of a registered topic"
   ]
  },
  {
   "cell_type": "code",
   "execution_count": null,
   "metadata": {
    "id": "aIPqq2IxpcYY"
   },
   "outputs": [],
   "source": [
    "\"\"\"\n",
    "    For a registered topic, get its configurations.\n",
    "    If the topic is not registered (or registered by others), return an error message.\n",
    "    Explanations of these configurations: https://kafka.apache.org/documentation/#topicconfigs\n",
    "    expected return: { \"status\": \"success\", \"configs\": {...}}\n",
    "\"\"\"\n",
    "print(c.get_topic_configs(topic))"
   ]
  },
  {
   "cell_type": "markdown",
   "metadata": {
    "id": "kgWZMEQMzGZs"
   },
   "source": [
    "### 2.3 Update topic configurations"
   ]
  },
  {
   "cell_type": "code",
   "execution_count": null,
   "metadata": {
    "id": "CHV5324-vRV7"
   },
   "outputs": [],
   "source": [
    "\"\"\"\n",
    "    Update one or more topic configurations, if the topic has been registered.\n",
    "    If the topic is not registered (or registered by others), return an error message.\n",
    "    expected return: { \"status\": \"success\", \"before\": {...},  \"after\": {...}}\n",
    "\"\"\"\n",
    "configs = {'min.insync.replicas': 1}\n",
    "print(c.update_topic_configs(topic, configs))"
   ]
  },
  {
   "cell_type": "code",
   "execution_count": null,
   "metadata": {},
   "outputs": [],
   "source": [
    "\"\"\"\n",
    "    Adjust more than one configuration in a single update_topic_configs request.\n",
    "    expected return: { \"status\": \"success\", \"before\": {...},  \"after\": {...}}\n",
    "\"\"\"\n",
    "configs = {\n",
    "    'delete.retention.ms': 43200000,\n",
    "    'retention.ms': 43200000\n",
    "}\n",
    "print(c.update_topic_configs(topic, configs))"
   ]
  },
  {
   "cell_type": "markdown",
   "metadata": {
    "id": "SmRvFNCZzOys"
   },
   "source": [
    "### 2.4 Update topic partitions (default=1)"
   ]
  },
  {
   "cell_type": "code",
   "execution_count": null,
   "metadata": {
    "id": "tQiDPK0XvTgg"
   },
   "outputs": [],
   "source": [
    "\"\"\"\n",
    "    Increase the number of partitions for a registered topic.\n",
    "    If the topic is not registered, return an error. \n",
    "    If the new_partitions argument is no larger than the current number of partitions, return an error.\n",
    "    expected return: { \"status\": \"success\" }\n",
    "\"\"\"\n",
    "print(c.update_topic_partitions(topic, 2))"
   ]
  },
  {
   "cell_type": "markdown",
   "metadata": {},
   "source": [
    "### 2.4.2 Restore topic configs"
   ]
  },
  {
   "cell_type": "code",
   "execution_count": null,
   "metadata": {},
   "outputs": [],
   "source": [
    "\"\"\"\n",
    "    Deletes and recreates the topic, removing all messages and restoring the topic to the default configurations while user access is not affected.\n",
    "    If the topic is not registered, return an error. \n",
    "    Note: under repeated invocations, the topic may marked for deletion but not get deleted for a while. Wait and then call this method again.\n",
    "    expected return: { \"status\": \"success\", \"message\": \"topic deleted and re-created with default configs\" }\n",
    "\"\"\"\n",
    "print(c.reset_topic(topic))"
   ]
  },
  {
   "cell_type": "markdown",
   "metadata": {
    "id": "MJlE24gBzYwh"
   },
   "source": [
    "### 2.5 Grant/List/Revoke access of another user"
   ]
  },
  {
   "cell_type": "code",
   "execution_count": null,
   "metadata": {
    "id": "kC4xHbSAwi4u"
   },
   "outputs": [],
   "source": [
    "\"\"\"\n",
    "    Authorize another user to access the topic, if the topic has been register by the invoking user.\n",
    "    expected return (first time): { \"status\": \"success\", \"message\": ...}\n",
    "    expected return (subsequent): { \"status\": \"no-op\", \"message\": ...}\n",
    "\n",
    "\"\"\"\n",
    "print(c.grant_user_access(topic, \"e2a8169b-feef-4d56-8eba-ab12747bee04\"))   # a virtual user"
   ]
  },
  {
   "cell_type": "code",
   "execution_count": null,
   "metadata": {},
   "outputs": [],
   "source": [
    "\"\"\"\n",
    "    Returns a list of users that have access to the topic.\n",
    "    expected return (subsequent): { \"status\": \"success\", \"users\": [...]}\n",
    "\"\"\"\n",
    "print(c.list_topic_users(topic)) "
   ]
  },
  {
   "cell_type": "code",
   "execution_count": null,
   "metadata": {},
   "outputs": [],
   "source": [
    "\"\"\"\n",
    "    Revokes another user to access the topic, if the topic has been register by the invoking user.\n",
    "    expected return (first time): { \"status\": \"success\", \"message\": ...}\n",
    "    expected return (subsequent): { \"status\": \"no-op\", \"message\": ...}\n",
    "\"\"\"\n",
    "print(c.revoke_user_access(topic, \"e2a8169b-feef-4d56-8eba-ab12747bee04\"))  # a virtual user"
   ]
  },
  {
   "cell_type": "code",
   "execution_count": null,
   "metadata": {},
   "outputs": [],
   "source": [
    "producer = KafkaProducer()  \n",
    "print(topic)\n",
    "\n",
    "try:\n",
    "    future = producer.send(\n",
    "        topic, {'message': 'Synchronous message 1 from Diaspora SDK'})\n",
    "    print(future.get(timeout=10))\n",
    "    future = producer.send(\n",
    "        topic, {'message': 'Synchronous message 2 from Diaspora SDK'})\n",
    "    print(future.get(timeout=10))\n",
    "except Exception as e:\n",
    "    print(f\"Failed to send message: {e}\")"
   ]
  },
  {
   "cell_type": "markdown",
   "metadata": {
    "id": "aWFxBOo30PnY"
   },
   "source": [
    "### 2.6 SDK Producing"
   ]
  },
  {
   "cell_type": "code",
   "execution_count": null,
   "metadata": {
    "id": "NcqBY9j0QAN-"
   },
   "outputs": [],
   "source": [
    "\"\"\"\n",
    "    Synchronously produce messages to a registered topic.\n",
    "    expected return: \n",
    "        multiple RecordMetadata(...)\n",
    "\"\"\"\n",
    "\n",
    "producer = KafkaProducer()\n",
    "future = producer.send(\n",
    "    topic, {'message': 'Synchronous message 1 from Diaspora SDK'})\n",
    "print(future.get(timeout=10))\n",
    "future = producer.send(\n",
    "    topic, {'message': 'Synchronous message 2 from Diaspora SDK'})\n",
    "print(future.get(timeout=10))"
   ]
  },
  {
   "cell_type": "code",
   "execution_count": null,
   "metadata": {
    "id": "4Z8gkRRO4w2v"
   },
   "outputs": [],
   "source": [
    "\"\"\"\n",
    "    Asynchronously produce batched messages to a registered topic.\n",
    "    See https://kafka-python.readthedocs.io/en/master/apidoc/KafkaProducer.html\n",
    "    for more producer settings and usage.\n",
    "    expected return: None\n",
    "\"\"\"\n",
    "producer = KafkaProducer()\n",
    "producer.send(topic, {'message': 'Asynchronous message 3 from Diaspora SDK'})\n",
    "producer.send(topic, {'message': 'Asynchronous message 4 from Diaspora SDK'})\n",
    "producer.flush()"
   ]
  },
  {
   "cell_type": "markdown",
   "metadata": {
    "id": "ZUQtQyY_5HFh"
   },
   "source": [
    "### 2.7 SDK Consuming"
   ]
  },
  {
   "cell_type": "code",
   "execution_count": null,
   "metadata": {
    "id": "NhcHgb3TQDP6"
   },
   "outputs": [],
   "source": [
    "\"\"\"\n",
    "    Consume produced messages from the beginning of the topic.\n",
    "    The consumer exits in three seconds.\n",
    "    If the topic has more than one partitions, messages may arrive out of order.\n",
    "    See https://kafka-python.readthedocs.io/en/master/apidoc/KafkaConsumer.html \n",
    "    for more consumer settings and usage.\n",
    "    expected return:\n",
    "        multiple {'message': ...}\n",
    "\"\"\"\n",
    "consumer = KafkaConsumer(topic, auto_offset_reset='earliest')\n",
    "start_time = time.time()\n",
    "try:\n",
    "    while True:\n",
    "        messages = consumer.poll(timeout_ms=100)\n",
    "        for tp, msgs in messages.items():\n",
    "            for message in msgs:\n",
    "                print(json.loads(message.value.decode(\"utf-8\")))\n",
    "\n",
    "        if time.time() - start_time > 3:\n",
    "            # print(\"3 seconds have passed. Exiting...\")\n",
    "            break\n",
    "finally:\n",
    "    consumer.close()"
   ]
  },
  {
   "cell_type": "markdown",
   "metadata": {
    "id": "AUTlFxC671Pi"
   },
   "source": [
    "### 2.8 Unregister topic, list all topics"
   ]
  },
  {
   "cell_type": "code",
   "execution_count": null,
   "metadata": {
    "id": "2TlCH8S0QDjY"
   },
   "outputs": [],
   "source": [
    "\"\"\"\n",
    "    Unregister a topic (i.e., remove user access), leave all existing events in the topic unaffected.\n",
    "    expected return (first time): { \"status\": \"success\", \"message\": ...}\n",
    "    expected return (subsequent): { \"status\": \"no-op\", \"message\": ...}\n",
    "\"\"\"\n",
    "print(c.unregister_topic(topic))"
   ]
  },
  {
   "cell_type": "code",
   "execution_count": null,
   "metadata": {},
   "outputs": [],
   "source": [
    "\"\"\"\n",
    "    List all topics that the user has access to.\n",
    "    expected return: {\"status\": \"success\", \"topics\": [...]}\n",
    "\"\"\"\n",
    "print(c.list_topics())"
   ]
  },
  {
   "cell_type": "markdown",
   "metadata": {
    "id": "7jCk-6QqxFUz"
   },
   "source": [
    "## 3 Demonstrate trigger management APIs"
   ]
  },
  {
   "cell_type": "markdown",
   "metadata": {
    "id": "sVK55OqpSkD6"
   },
   "source": [
    "### 3.0 Create a deployment package"
   ]
  },
  {
   "cell_type": "code",
   "execution_count": null,
   "metadata": {
    "colab": {
     "base_uri": "https://localhost:8080/"
    },
    "id": "CTKG5IU6SH9Q",
    "outputId": "575dbbd5-02c9-4eb1-f2af-229629b9fa22"
   },
   "outputs": [],
   "source": [
    "trigger_package = f\"{os.getcwd()}/my_deployment_package\" # require abs path here\n",
    "trigger_file = \"lambda_function.py\"\n",
    "trigger_name_in_def=\"lambda_handler\"\n",
    "os.system(f\"mkdir {trigger_package}\")"
   ]
  },
  {
   "cell_type": "markdown",
   "metadata": {
    "id": "OspfInFw3xeC"
   },
   "source": [
    "### 3.1 Save code to `trigger_package/trigger_file`"
   ]
  },
  {
   "cell_type": "code",
   "execution_count": null,
   "metadata": {
    "id": "xRaGaOJTR_9e"
   },
   "outputs": [],
   "source": [
    "trigger_code = f\"\"\"import base64\n",
    "\n",
    "def {trigger_name_in_def}(event, context):\n",
    "    try:\n",
    "        print('EVENT:')\n",
    "        print(event)\n",
    "\n",
    "        for partition, records in event['records'].items():\n",
    "            for record in records:\n",
    "                print(\"topic:\", record['topic'],\n",
    "                      \"partition:\", record['partition'],\n",
    "                      \"offset:\", record['offset'],\n",
    "                      \"key:\", record.get(\"key\", \"NOT-SET\"),\n",
    "                      \"value:\", base64.b64decode(record['value']))\n",
    "    except Exception as e:\n",
    "        print(\"ERROR:\", e)\n",
    "\"\"\"\n",
    "\n",
    "with open(os.path.join(trigger_package, trigger_file), \"w\") as f:\n",
    "  f.write(trigger_code)"
   ]
  },
  {
   "cell_type": "markdown",
   "metadata": {
    "id": "s_A6K1NV3_mv"
   },
   "source": [
    "### 3.2 Zip the code at `trigger_file`"
   ]
  },
  {
   "cell_type": "code",
   "execution_count": null,
   "metadata": {
    "id": "NRVkJZEaRfWJ"
   },
   "outputs": [],
   "source": [
    "def get_zipped_code(lambda_function_package):\n",
    "    print(f\"Zipping {lambda_function_package}\")\n",
    "    os.system(f\"cd {lambda_function_package} && zip -r {lambda_function_package}.zip .\")\n",
    "    with open(f\"{lambda_function_package}.zip\", \"rb\") as f:\n",
    "        return base64.b64encode(f.read()).decode('utf-8')\n",
    "zipped_code = get_zipped_code(trigger_package)"
   ]
  },
  {
   "cell_type": "markdown",
   "metadata": {
    "id": "kvNu2kKf4Xpj"
   },
   "source": [
    "### 3.3 Trigger info\n",
    "\n",
    "Note: one topic can be associated with multiple functions\n",
    "\n",
    "`topic_name`: which topic to consume from\n",
    "\n",
    "`function_name`: along with topic_name, used to identify and delete the function\n",
    "\n",
    "`function_runtime`: a function runtime like `python3.11` and `python3.12`\n",
    "\n",
    "`function_handler`: py-file-name.function-name\n",
    "\n",
    "`function_code_zipped`: serialized function code\n"
   ]
  },
  {
   "cell_type": "code",
   "execution_count": null,
   "metadata": {
    "colab": {
     "base_uri": "https://localhost:8080/"
    },
    "id": "tM_U2RCY0eJH",
    "outputId": "d71a9e92-62ec-4194-cba6-23c0460f047a"
   },
   "outputs": [],
   "source": [
    "\n",
    "topic_name = \"topic\" + c.subject_openid[-12:]\n",
    "trigger_name = f\"lambda{random.randint(100, 999)}\"\n",
    "trigger_runtime = \"python3.11\"\n",
    "trigger_handler = f\"{trigger_file.split('.')[0]}.{trigger_name_in_def}\"\n",
    "print(c.register_topic(topic_name))\n",
    "print()\n",
    "print(\"topic name:\\t\\t\", topic_name)\n",
    "print(\"trigger name:\\t\\t\", trigger_name)\n",
    "print(\"trigger runtime:\\t\", trigger_runtime)\n",
    "print(\"trigger handler:\\t\", trigger_handler)\n",
    "print(\"zipped trigger code:\\t\", zipped_code)\n",
    "print(\"length of the code:\\t\", len(zipped_code))"
   ]
  },
  {
   "cell_type": "markdown",
   "metadata": {
    "id": "XmWp7cs55Kq9"
   },
   "source": [
    "### 3.4 Trigger creation call\n",
    "\n",
    "Note: the call blocks for a few seconds to wait for creation results or error message.\n",
    "\n",
    "Default values are listed in the table below, note that if the runtime is `python3.11` or `python3.12`, a layer with Globus SDK and Diaspora SDK will be attached.\n",
    "\n",
    "[Trigger parameter syntax (`Code`, etc.)](https://boto3.amazonaws.com/v1/documentation/api/latest/reference/services/lambda/client/create_function.html)\n",
    "\n",
    "| Trigger Parameter | Default Value                      |\n",
    "|--------------------|------------------------------------|\n",
    "| Runtime            | python3.11                         |\n",
    "| Handler            | lambda_function.lambda_handler     |\n",
    "| Code               | {}                                 |\n",
    "| Timeout            | 30                                 |\n",
    "| MemorySize         | 128                                |\n",
    "| Environment        | {}                                 |\n",
    "| EphemeralStorage   | {'Size': 512}                      |\n",
    "| Layers             | []                                 |\n",
    "\n",
    "\n",
    "\n",
    "[Invocation parameter syntax (`FilterCriteria`, etc.)](https://docs.aws.amazon.com/lambda/latest/dg/invocation-eventfiltering.html#filtering-syntax)\n",
    "\n",
    "| Invocation Parameter              | Default Value |\n",
    "|--------------------------------|---------------|\n",
    "| Enabled                        | True          |\n",
    "| BatchSize                      | 1             |\n",
    "| FilterCriteria                 | {}            |\n",
    "| MaximumBatchingWindowInSeconds | 500ms         |\n",
    "| StartingPosition               | LATEST        |\n"
   ]
  },
  {
   "cell_type": "code",
   "execution_count": null,
   "metadata": {
    "id": "_Z8kqJ5K1Rdi"
   },
   "outputs": [],
   "source": [
    "\"\"\"\n",
    "    Create a new trigger that response to events in a registered topic.\n",
    "    Note: the creation call takes around 10 seconds to return.\n",
    "    Note: for Python 3.12 runtime, use \n",
    "        arn:aws:lambda:us-east-1:845889416464:layer:globus-diaspora-layer312:1\n",
    "        to enable the globus SDK in the trigger.\n",
    "    expected return (first time): {\"status\": \"success\", \"message\": \"Trigger creation started.\"}\n",
    "    expected return (subsequent): {\"status\": \"error\", \"message\": ...}\n",
    "\"\"\"\n",
    "\n",
    "trigger_configs = {\n",
    "    \"Runtime\": trigger_runtime,\n",
    "    \"Handler\": trigger_handler,\n",
    "    \"Code\": {'ZipFile': zipped_code},\n",
    "    \"Timeout\": 3,\n",
    "    \"MemorySize\": 128,\n",
    "    \"Environment\": {},\n",
    "    \"EphemeralStorage\": {'Size': 512},\n",
    "    \"Layers\": [\"arn:aws:lambda:us-east-1:845889416464:layer:globus-diaspora-layer311:1\"]\n",
    "}\n",
    "invoke_configs = {\n",
    "    \"Enabled\": True,\n",
    "    \"BatchSize\": 1,\n",
    "    \"StartingPosition\": \"LATEST\"\n",
    "}\n",
    "print(c.create_trigger(topic_name, trigger_name, trigger_configs, invoke_configs))"
   ]
  },
  {
   "cell_type": "markdown",
   "metadata": {
    "id": "FPNHrJk75aaA"
   },
   "source": [
    "### 3.5 List created functions\n"
   ]
  },
  {
   "cell_type": "code",
   "execution_count": null,
   "metadata": {
    "id": "N_pwg-fg1gEc"
   },
   "outputs": [],
   "source": [
    "\"\"\"\n",
    "    List all triggered created by the user.\n",
    "    Note: the print function below highlights the trigger name, \n",
    "        handler name, uuid, and topic it taps on.\n",
    "    expected return:\n",
    "        trigger name: ... trigger handler name: ...  trigger uuid: ... trigger topic: ...\n",
    "\"\"\"\n",
    "\n",
    "for function in c.list_triggers()['triggers']:\n",
    "    print(\"trigger name:\", function['function_name'], \"\\n\",\n",
    "          \"trigger handler name:\", function['function_detail']['Configuration']['Handler'], \"\\n\",\n",
    "          \"trigger uuid:\", function['triggers'][0]['UUID'], \"\\n\",\n",
    "          \"trigger topic:\", function['triggers'][0]['Topics'][0], \"\\n\",)"
   ]
  },
  {
   "cell_type": "code",
   "execution_count": null,
   "metadata": {
    "id": "tuJ3ozabuEyB"
   },
   "outputs": [],
   "source": [
    "\"\"\"\n",
    "    List all triggered created by the user.\n",
    "    Note: the print function below highlights the trigger most recently created\n",
    "    expected return: {'function_name': ..., 'function_detail': ..., 'triggers': [...]}\n",
    "\"\"\"\n",
    "\n",
    "for function in c.list_triggers()['triggers']:\n",
    "    if function['function_name'] == trigger_name:\n",
    "        pprint(function, sort_dicts=False)\n",
    "        trigger_uuid = function['triggers'][0]['UUID']"
   ]
  },
  {
   "cell_type": "markdown",
   "metadata": {
    "id": "M30sgRswvBT_"
   },
   "source": [
    "### 3.6 Update trigger configurations"
   ]
  },
  {
   "cell_type": "code",
   "execution_count": null,
   "metadata": {
    "id": "8160R8BnvRtq"
   },
   "outputs": [],
   "source": [
    "\"\"\"\n",
    "    Update the invocation configuration -- add event filters\n",
    "    Note: see the table above for other tunable configurations.\n",
    "    expected return: {\"status\": \"success\", \"before\": {}, \"after\": {}}\n",
    "\"\"\"\n",
    "\n",
    "\n",
    "pattern1 = {\"value\": {\"event_type\": [\"created\"]}}\n",
    "config1 = {\n",
    "    \"Enabled\": True,\n",
    "    \"BatchSize\": 123,\n",
    "    \"FilterCriteria\": {\"Filters\": [{'Pattern': json.dumps(pattern1)}]},\n",
    "    \"MaximumBatchingWindowInSeconds\": 42\n",
    "}\n",
    "print(c.update_trigger(trigger_uuid, config1))"
   ]
  },
  {
   "cell_type": "code",
   "execution_count": null,
   "metadata": {},
   "outputs": [],
   "source": [
    "\"\"\"\n",
    "    Update the invocation configuration -- remove event filters and change the batch size back.\n",
    "    Note: see the table above for other tunable configurations.\n",
    "    expected return: {\"status\": \"success\", \"before\": {}, \"after\": {}}\n",
    "\"\"\"\n",
    "config2 = {\n",
    "    \"BatchSize\": 1,\n",
    "    \"FilterCriteria\": {},\n",
    "    \"MaximumBatchingWindowInSeconds\": 1\n",
    "}\n",
    "print(c.update_trigger(trigger_uuid, config2))"
   ]
  },
  {
   "cell_type": "markdown",
   "metadata": {},
   "source": [
    "### 3.6 Produce events to invoke the trigger and verify invocations through inspecting the latest log stream"
   ]
  },
  {
   "cell_type": "code",
   "execution_count": null,
   "metadata": {},
   "outputs": [],
   "source": [
    "\"\"\"\n",
    "    Synchronously produce messages to a registered topic to invoke triggers\n",
    "    expected return: \n",
    "        multiple RecordMetadata(...)\n",
    "\"\"\"\n",
    "\n",
    "producer = KafkaProducer()\n",
    "future = producer.send(\n",
    "    topic_name, {'message': 'Synchronous message 3 from Diaspora SDK'})\n",
    "print(future.get(timeout=10))\n",
    "future = producer.send(\n",
    "    topic_name, {'message': 'Synchronous message 4 from Diaspora SDK'})\n",
    "print(future.get(timeout=10))"
   ]
  },
  {
   "cell_type": "code",
   "execution_count": null,
   "metadata": {},
   "outputs": [],
   "source": [
    "\"\"\"\n",
    "    Get the list of log streams belong to the trigger.\n",
    "    Note: recent_log_stream_name may not contain logs of all trigger invocations,\n",
    "      as some logs may exist in other streams.\n",
    "    expected return:  {\"status\": \"success\", \"streams\": [...]}\n",
    "\"\"\"\n",
    "\n",
    "streams_response = c.list_log_streams(trigger_name)\n",
    "print(streams_response)\n",
    "recent_log_stream_name = streams_response['streams'][0]['logStreamName']"
   ]
  },
  {
   "cell_type": "code",
   "execution_count": null,
   "metadata": {},
   "outputs": [],
   "source": [
    "\"\"\"\n",
    "    Retrieve the events in a particular log stream.\n",
    "    Note: this log stream may not contain logs of all trigger invocations,\n",
    "      as some logs may exist in other streams.\n",
    "    expected return:  {\"status\": \"success\", \"events\": [...]}\n",
    "\"\"\"\n",
    "print(c.get_log_events(trigger_name, recent_log_stream_name))"
   ]
  },
  {
   "cell_type": "markdown",
   "metadata": {
    "id": "KdDdbAg55ilM"
   },
   "source": [
    "### 3.7 Trigger deletion call"
   ]
  },
  {
   "cell_type": "code",
   "execution_count": null,
   "metadata": {
    "id": "xtxx1PiU1iS7"
   },
   "outputs": [],
   "source": [
    "\"\"\"\n",
    "    Delete trigger by (topic_name, trigger_name)\n",
    "    expected return: {\"status\": \"success\", \"message\": ...}\n",
    "\"\"\"\n",
    "print(c.delete_trigger(topic_name, trigger_name))"
   ]
  },
  {
   "cell_type": "code",
   "execution_count": null,
   "metadata": {
    "id": "CPk0DY6f58Xv"
   },
   "outputs": [],
   "source": [
    "\"\"\"\n",
    "    List all triggered created by the user.\n",
    "    expected return (if all triggers are deleted): None \n",
    "    expected return (otherwise): {'function_name': ..., 'function_detail': ..., 'triggers': [...]}\n",
    "\"\"\"\n",
    "for function in c.list_triggers()['triggers']:\n",
    "    print(\"trigger name:\", function['function_name'], \"\\n\",\n",
    "          \"trigger handler name:\", function['function_detail']['Configuration']['Handler'], \"\\n\",\n",
    "          \"trigger uuid:\", function['triggers'][0]['UUID'], \"\\n\",\n",
    "          \"trigger topic:\", function['triggers'][0]['Topics'][0], \"\\n\",)"
   ]
  },
  {
   "cell_type": "markdown",
   "metadata": {
    "id": "QDRr1hZ2qsw8"
   },
   "source": [
    "### 3.7 Unregister topic"
   ]
  },
  {
   "cell_type": "code",
   "execution_count": null,
   "metadata": {
    "colab": {
     "base_uri": "https://localhost:8080/"
    },
    "id": "Mmr5Fuk-qxiN",
    "outputId": "8b681091-9aae-4dcf-b43b-907c4e2c36f9"
   },
   "outputs": [],
   "source": [
    "\"\"\"\n",
    "    Unregister a topic (i.e., remove user access), leave all existing events in the topic unaffected.\n",
    "    expected return (first time): { \"status\": \"success\", \"message\": ...}\n",
    "    expected return (subsequent): { \"status\": \"no-op\", \"message\": ...}\n",
    "\"\"\"\n",
    "print(c.unregister_topic(topic_name))"
   ]
  }
 ],
 "metadata": {
  "colab": {
   "provenance": [],
   "toc_visible": true
  },
  "kernelspec": {
   "display_name": "Python 3",
   "name": "python3"
  },
  "language_info": {
   "codemirror_mode": {
    "name": "ipython",
    "version": 3
   },
   "file_extension": ".py",
   "mimetype": "text/x-python",
   "name": "python",
   "nbconvert_exporter": "python",
   "pygments_lexer": "ipython3",
   "version": "3.9.6"
  }
 },
 "nbformat": 4,
 "nbformat_minor": 0
}
